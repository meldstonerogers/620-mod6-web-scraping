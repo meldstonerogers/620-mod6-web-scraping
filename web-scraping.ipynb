{
 "cells": [
  {
   "cell_type": "markdown",
   "metadata": {},
   "source": [
    "# Web Mining and Applied NLP (44-620)\n",
    "\n",
    "## Web Scraping and NLP with Requests, BeautifulSoup, and spaCy\n",
    "\n",
    "### Student Name: Melissa Stone Rogers, [GitHub](https://github.com/meldstonerogers/620-mod6-web-scraping)\n",
    "\n",
    "Perform the tasks described in the Markdown cells below.  When you have completed the assignment make sure your code cells have all been run (and have output beneath them) and ensure you have committed and pushed ALL of your changes to your assignment repository.\n",
    "\n",
    "Every question that requires you to write code will have a code cell underneath it; you may either write your entire solution in that cell or write it in a python file (`.py`), then import and run the appropriate code to answer the question."
   ]
  },
  {
   "cell_type": "code",
   "execution_count": 47,
   "metadata": {},
   "outputs": [
    {
     "name": "stdout",
     "output_type": "stream",
     "text": [
      "Package             Version\n",
      "------------------- -----------\n",
      "annotated-types     0.7.0\n",
      "appnope             0.1.4\n",
      "asttokens           2.4.1\n",
      "backcall            0.2.0\n",
      "beautifulsoup4      4.12.3\n",
      "blis                0.7.11\n",
      "catalogue           2.0.10\n",
      "certifi             2024.8.30\n",
      "charset-normalizer  3.4.0\n",
      "click               8.1.7\n",
      "cloudpathlib        0.20.0\n",
      "comm                0.2.2\n",
      "confection          0.1.5\n",
      "contourpy           1.1.1\n",
      "cycler              0.12.1\n",
      "cymem               2.0.10\n",
      "debugpy             1.8.9\n",
      "decorator           5.1.1\n",
      "en-core-web-sm      3.7.1\n",
      "executing           2.1.0\n",
      "fonttools           4.55.0\n",
      "html5lib            1.1\n",
      "idna                3.10\n",
      "importlib_metadata  8.5.0\n",
      "importlib_resources 6.4.5\n",
      "ipykernel           6.29.5\n",
      "ipython             8.12.3\n",
      "jedi                0.19.2\n",
      "Jinja2              3.1.4\n",
      "joblib              1.4.2\n",
      "jupyter_client      8.6.3\n",
      "jupyter_core        5.7.2\n",
      "kiwisolver          1.4.7\n",
      "langcodes           3.4.1\n",
      "language_data       1.3.0\n",
      "marisa-trie         1.2.1\n",
      "markdown-it-py      3.0.0\n",
      "MarkupSafe          2.1.5\n",
      "matplotlib          3.7.5\n",
      "matplotlib-inline   0.1.7\n",
      "mdurl               0.1.2\n",
      "murmurhash          1.0.11\n",
      "nest-asyncio        1.6.0\n",
      "nltk                3.9.1\n",
      "numpy               1.24.4\n",
      "packaging           24.2\n",
      "parso               0.8.4\n",
      "pexpect             4.9.0\n",
      "pickleshare         0.7.5\n",
      "pillow              10.4.0\n",
      "pip                 24.3.1\n",
      "platformdirs        4.3.6\n",
      "preshed             3.0.9\n",
      "prompt_toolkit      3.0.48\n",
      "psutil              6.1.0\n",
      "ptyprocess          0.7.0\n",
      "pure_eval           0.2.3\n",
      "pydantic            2.10.1\n",
      "pydantic_core       2.27.1\n",
      "Pygments            2.18.0\n",
      "pyparsing           3.1.4\n",
      "python-dateutil     2.9.0.post0\n",
      "pyzmq               26.2.0\n",
      "regex               2024.11.6\n",
      "requests            2.32.3\n",
      "rich                13.9.4\n",
      "setuptools          56.0.0\n",
      "shellingham         1.5.4\n",
      "six                 1.16.0\n",
      "smart-open          7.0.5\n",
      "soupsieve           2.6\n",
      "spacy               3.7.5\n",
      "spacy-legacy        3.0.12\n",
      "spacy-loggers       1.0.5\n",
      "spacytextblob       4.0.0\n",
      "srsly               2.4.8\n",
      "stack-data          0.6.3\n",
      "textblob            0.15.3\n",
      "thinc               8.2.5\n",
      "tornado             6.4.2\n",
      "tqdm                4.67.1\n",
      "traitlets           5.14.3\n",
      "typer               0.13.1\n",
      "typing_extensions   4.12.2\n",
      "urllib3             2.2.3\n",
      "wasabi              1.1.3\n",
      "wcwidth             0.2.13\n",
      "weasel              0.4.1\n",
      "webencodings        0.5.1\n",
      "wrapt               1.17.0\n",
      "zipp                3.20.2\n",
      "All prereqs installed.\n"
     ]
    }
   ],
   "source": [
    "#import dependenceis \n",
    "from collections import Counter\n",
    "import pickle\n",
    "import requests\n",
    "import spacy\n",
    "from bs4 import BeautifulSoup\n",
    "import matplotlib.pyplot as plt\n",
    "from matplotlib.collections import PolyCollection\n",
    "import numpy as np\n",
    "\n",
    "\n",
    "!pip list\n",
    "\n",
    "print('All prereqs installed.')\n"
   ]
  },
  {
   "cell_type": "markdown",
   "metadata": {},
   "source": [
    "## Question 1\n",
    "1. Write code that extracts the article html from https://web.archive.org/web/20210327165005/https://hackaday.com/2021/03/22/how-laser-headlights-work/ and dumps it to a .pkl (or other appropriate file)"
   ]
  },
  {
   "cell_type": "code",
   "execution_count": 48,
   "metadata": {},
   "outputs": [
    {
     "name": "stdout",
     "output_type": "stream",
     "text": [
      "HTML saved to article_html.pkl.\n"
     ]
    }
   ],
   "source": [
    "# get article\n",
    "article_html = requests.get('https://web.archive.org/web/20210327165005/https://hackaday.com/2021/03/22/how-laser-headlights-work/')\n",
    "\n",
    "#parse HTML content with bs4\n",
    "parser = 'html5lib'\n",
    "\n",
    "soup = BeautifulSoup(article_html.content, parser)\n",
    "# Uncomment next lines to explore full page contents; it's long so when done, recomment\n",
    "#print(soup)\n",
    "#print(soup.prettify())\n",
    "\n",
    "# BeautifulSoup objects don't pickle well, so it's appropriate and polite to web developers to cache the text of the web page, or just dump it to an html file you can read in later as a regular file\n",
    "with open('article_html.pkl', 'wb') as f:\n",
    "    pickle.dump(soup, f)\n",
    "    print(\"HTML saved to article_html.pkl.\")\n"
   ]
  },
  {
   "cell_type": "markdown",
   "metadata": {},
   "source": [
    "## Question 2\n",
    "2. Read in your article's html source from the file you created in question 1 and print it's text (use `.get_text()`)"
   ]
  },
  {
   "cell_type": "code",
   "execution_count": 49,
   "metadata": {},
   "outputs": [
    {
     "name": "stdout",
     "output_type": "stream",
     "text": [
      "\n",
      "    \n",
      "        How Laser Headlights Work\n",
      "        \n",
      "            \n",
      "                130 Comments            \n",
      "            \n",
      "                by:\n",
      "                Lewin Day\n",
      "            \n",
      "        \n",
      "\n",
      "        \n",
      "            March 22, 2021\n",
      "            \n",
      "                \n",
      "                \n",
      "            \n",
      "        \n",
      "\n",
      "        \n",
      "    \n",
      "\n",
      "    \n",
      "        When we think about the onward march of automotive technology, headlights aren’t usually the first thing that come to mind. Engines, fuel efficiency, and the switch to electric power are all more front of mind. However, that doesn’t mean there aren’t thousands of engineers around the world working to improve the state of the art in automotive lighting day in, day out.\n",
      "Sealed beam headlights gave way to more modern designs once regulations loosened up, while bulbs moved from simple halogens to xenon HIDs and, more recently, LEDs. Now, a new technology is on the scene, with lasers!\n",
      "\n",
      "Laser Headlights?!\n",
      "BWM’s prototype laser headlight assemblies undergoing testing.\n",
      "The first image brought to mind by the phrase “laser headlights” is that of laser beams firing out the front of an automobile. Obviously, coherent beams of monochromatic light would make for poor illumination outside of a very specific spot quite some distance away. Thankfully for our eyes, laser headlights don’t work in this way at all.\n",
      "Instead, laser headlights consist of one or more solid state laser diodes mounted inside the headlight. These blue lasers are fired at a yellow phosphor, similar to that used in white LEDs. This produces a powerful, vibrant white light that can then be bounced off reflectors and out of the headlights towards the road. Laser headlights built in this way have several benefits. They’re more energy efficient than LEDs that put out the same amount of light, while also being more space efficient, too.\n",
      "BWM’s futuristic i8 was one of the first vehicles to ship with laser headlight technology.\n",
      "Laser headlights are still a nascent technology, thus far only appearing in a few BMW, Audi, and other select vehicles. BMW’s technology was developed in partnership with lighting experts OSRAM. In practice, a regular LED low-beam lamp is used, with the laser used to create an incredibly bright and focused spot, used for high-beams. This can provide illumination out to 600 meters ahead of the vehicle, double that of conventional LED high beams. The lights use indium gallium nitride diode lasers that were originally used in projectors, with power levels above 1 watt. One of the challenges in implementing such technology in an automotive environment is the need for it to operate at temperature extremes. While research lasers and laser pointers may primarily be used at typical room temperatures, automotive headlights must be able to withstand everything from 40 degrees below zero up to 50 degrees C. Thankfully, the laser’s high efficiency means it doesn’t have huge heat output of its own to further complicate things. Other engineering challenges involve tailoring the optics package for the rough-and-tumble, high vibration environment found in the automotive application. It’s also important to ensure, as with any such device, that the end user can’t be exposed to harmful laser radiation in the event of accident or malfunction.\n",
      "Tearing Down the Laser Headlight\n",
      "A marketing image showing the construction of an aftermarket LED/laser headlight. We’d take the laser power with a grain of salt — it’s difficult to imagine a 10 W laser shining directly on some small LEDs without melting a hole through the board in short order.\n",
      "An aftermarket has sprung up too, with delightfully innovative designs. Combined laser/LED headlights are readily available on Alibaba, designed as a drop in replacement for projector lamps on existing vehicles. These often use an LED low-beam, and a combined LED/laser high beam, where the laser diode shoots directly at the LED phosphor to excite it further, rather than using its own. These units often also come with fan cooling to keep the laser and LEDs below their maximum operational temperature. Such developments are exciting, though it’s important to be wary of the performance of unknown aftermarket headlights. Many aftermarket LED headlight “upgrades” fail to pass muster when it comes to real-world performance, and there’s no reason to believe hybrid LED/laser designs will be any different. We’d love to pass a selection of these parts through a full IIHS test protocol, but that’s sadly beyond the scope (and budget!) of this article.\n",
      "However, [mikeselectricstuff] has happened to lay his hands on both the BMW and aftermarket parts, tearing them all down in his workshop to see what makes them tick. The differences are multitude when laid bare on the bench. The AliExpress part is relatively simple, wired up no differently from a regular headlight. Interestingly, however, the laser high-beam circuit runs all the time in these parts. To prevent blinding other road users, a shutter is kept in place to block the light, which is moved out of the way with a solenoid when the driver turns on the high beam switch.\n",
      "Where the aftermarket part is a little out of left field, the BMW design is another thing entirely. The cutting-edge headlights are hooked up with multiple connectors and over 30 conductors, with much of the driver electronics living in an external controller. Much of this is to drive the various LEDs and stepper motors for slewing the headlights when steering. However, the laser assembly brings its own complexities. Twin light sensors are built inside to monitor the laser beam, and a special metal blocking arm sits directly in front of the diode, presumably to stop the laser light leaving the headlight in the event the phosphor coating burns through. It’s truly wild to get a look inside a modern luxury car’s headlight and see just how far we’ve come from the old days of simple sealed beams.\n",
      "Cost Versus Performance\n",
      "Despite the efficiency gains available, the technology remains expensive. Powerful laser diodes don’t come cheap, after all. However, as the technology trickles down to lower-end models, it’s likely that we could see economies of scale change that for the better. Indeed, if national authorities begin to demand higher performance headlights as standard, we could see laser headlights become the norm, rather than an expensive luxury. The technology could naturally be applied to home and commercial lighting, too — though we suspect the potential gains are limited enough that LED lighting will remain the norm for some time to come.\n",
      "The high light output of laser headlights in a compact package allows engineers greater freedom when designing the front-end of a car.\n",
      "As it currently stands, much of the appeal of the new technology is about the packaging benefits, which allow automotive designers greater freedom around the headlight area. Such concerns are less of a factor when it comes to light fittings in the home or office, or indeed, on lower-end automobiles. Regardless, it’s an exciting new application for lasers and one we’ll be sure to see more of in the future.\n",
      " \n",
      "\t            \n",
      "    \n",
      "    \t\t\t\t\t\n",
      "    \t\t\t\t\n",
      "    \t\t\t\t\t \n",
      "    \t\t\t\t\t\t\t\t\t\n",
      "    \t\t\t\n",
      "    \t\t\t\t\t\n",
      "    \t\t\t\t\n",
      "    \t\t\t\t\t\n",
      "    \t\t\t\t\t\t\t\t\t\n",
      "    \t\t\t\n",
      "    \t\t\t\t\t\n",
      "    \t\t\t\t\n",
      "    \t\t\t\t\t\n",
      "    \t\t\t\t\t\t\t\t\t\n",
      "    \t\t\t\n",
      "    \t\t\t\t\t\n",
      "                \n",
      "    \t\t\t\t\t\n",
      "    \t\t\t\t\t\t\t\t\t\n",
      "    \t\t\t\n",
      "    \t\t\t\n",
      "    \n",
      "        Posted in car hacks, Engineering, Featured, Laser Hacks, SliderTagged laser, laser headlight, laser headlights, light    \n",
      "\n"
     ]
    }
   ],
   "source": [
    "# read in HTML content form pkl file\n",
    "with open('article_html.pkl', 'rb') as f:\n",
    "    article_html = pickle.load(f)\n",
    "\n",
    "# find article text \n",
    "article_html = soup.find('article')\n",
    "\n",
    "# print article text \n",
    "print(article_html.get_text())"
   ]
  },
  {
   "cell_type": "markdown",
   "metadata": {},
   "source": [
    "## Question 3\n",
    "3. Load the article text into a trained `spaCy` pipeline, and determine the 5 most frequent tokens (converted to lower case).  Print the common tokens with an appropriate label.  Additionally, print the tokens their frequencies (with appropriate labels). Make sure to remove things we don't care about (punctuation, stopwords, whitespace)."
   ]
  },
  {
   "cell_type": "code",
   "execution_count": 50,
   "metadata": {},
   "outputs": [
    {
     "name": "stdout",
     "output_type": "stream",
     "text": [
      "Top 5 Most Frequent Tokens:\n",
      "Token: 'laser', Frequency: 35\n",
      "Token: 'headlights', Frequency: 19\n",
      "Token: 'headlight', Frequency: 11\n",
      "Token: 'technology', Frequency: 10\n",
      "Token: 'led', Frequency: 10\n"
     ]
    }
   ],
   "source": [
    "# load article text into trained spacy pipline\n",
    "nlp = spacy.load('en_core_web_sm')\n",
    "doc = nlp(article_html.get_text())\n",
    "\n",
    "# determine 5 most frequent tokens, converted to lower case, remove punct, stopwords, whitespace\n",
    "def we_care_about(token):\n",
    "    return not (token.is_space or token.is_punct or token.is_stop)\n",
    "\n",
    "interesting_tokens = [token for token in doc if we_care_about(token)]\n",
    "word_freq = Counter(map(lambda token: str(token).lower(), interesting_tokens))\n",
    "mostFreqtokens = word_freq.most_common(5)\n",
    "\n",
    "# print common tokens and frequencies with appropriate label\n",
    "print(\"Top 5 Most Frequent Tokens:\")\n",
    "for token, freq in mostFreqtokens:\n",
    "    print(f\"Token: '{token}', Frequency: {freq}\")\n"
   ]
  },
  {
   "cell_type": "markdown",
   "metadata": {},
   "source": [
    "## Question 4\n",
    "4. Load the article text into a trained `spaCy` pipeline, and determine the 5 most frequent lemmas (converted to lower case).  Print the common lemmas with an appropriate label.  Additionally, print the lemmas with their frequencies (with appropriate labels). Make sure to remove things we don't care about (punctuation, stopwords, whitespace)."
   ]
  },
  {
   "cell_type": "code",
   "execution_count": 51,
   "metadata": {},
   "outputs": [
    {
     "name": "stdout",
     "output_type": "stream",
     "text": [
      "Top 5 Most Frequent Lemmas:\n",
      "Lemma: 'laser', Frequency: 40\n",
      "Lemma: 'headlight', Frequency: 28\n",
      "Lemma: 'beam', Frequency: 12\n",
      "Lemma: 'technology', Frequency: 10\n",
      "Lemma: 'light', Frequency: 10\n"
     ]
    }
   ],
   "source": [
    "# determine 5 monst frequent lemmas converted to lower case\n",
    "interesting_lemmas = [token.lemma_.lower() for token in doc if we_care_about(token)]\n",
    "lemma_freq = Counter(interesting_lemmas)\n",
    "mostFreqlemmas = lemma_freq.most_common(5)\n",
    "\n",
    "# print with appropriate lemmas\n",
    "print(\"Top 5 Most Frequent Lemmas:\")\n",
    "for lemma, freq in mostFreqlemmas:\n",
    "    print(f\"Lemma: '{lemma}', Frequency: {freq}\")\n"
   ]
  },
  {
   "cell_type": "markdown",
   "metadata": {},
   "source": [
    "## Question 5\n",
    "5. Define the following methods:\n",
    "    * `score_sentence_by_token(sentence, interesting_token)` that takes a sentence and a list of interesting token and returns the number of times that any of the interesting words appear in the sentence divided by the number of words in the sentence\n",
    "    * `score_sentence_by_lemma(sentence, interesting_lemmas)` that takes a sentence and a list of interesting lemmas and returns the number of times that any of the interesting lemmas appear in the sentence divided by the number of words in the sentence\n",
    "    \n",
    "You may find some of the code from the in class notes useful; feel free to use methods (rewrite them in this cell as well).  Test them by showing the score of the first sentence in your article using the frequent tokens and frequent lemmas identified in question 3."
   ]
  },
  {
   "cell_type": "code",
   "execution_count": 52,
   "metadata": {},
   "outputs": [
    {
     "name": "stdout",
     "output_type": "stream",
     "text": [
      "2 :       How Laser Headlights Work                  130 Comments                    by:        Lewin Day                    March 22, 2021                                            \n",
      "Token Score for the first sentence: 0.1\n",
      "Lemma Score for the first sentence: 0.0\n"
     ]
    }
   ],
   "source": [
    "# Store frequent tokens and lemmas in a set\n",
    "cool_tokens = set()\n",
    "for token, freq in mostFreqtokens:\n",
    "    cool_tokens.add(token)\n",
    "\n",
    "cool_lemmas = set()\n",
    "for lemma, freq in mostFreqlemmas:\n",
    "    cool_lemmas.add(lemma)\n",
    "\n",
    "# Get the first sentence in the document\n",
    "first_sentence = list(doc.sents)[0]\n",
    "\n",
    "# Initialize the token count\n",
    "count = 0\n",
    "\n",
    "# Loop through the tokens in the first sentence\n",
    "for token in first_sentence:\n",
    "    if token.text.lower() in cool_tokens:\n",
    "        count += 1\n",
    "\n",
    "# Clean the sentence string (remove newlines and extra whitespace)\n",
    "sent_str = str(first_sentence).replace('\\n', '').replace('  ', ' ')\n",
    "\n",
    "# Print the count and the sentence text\n",
    "print(count, \":\", sent_str)\n",
    "\n",
    "# Define score_sentence_by_token function\n",
    "def score_sentence_by_token(sentence, interesting_tokens):\n",
    "    # Extract the raw text of the sentence\n",
    "    sentence_text = sentence.text\n",
    "    # Tokenize the sentence\n",
    "    doc = nlp(sentence_text)\n",
    "    # Count how many interesting tokens appear in the sentence\n",
    "    token_count = sum(1 for token in doc if token.text.lower() in interesting_tokens)\n",
    "    # Return the ratio of interesting tokens to total tokens\n",
    "    tokens_score = token_count / len(doc)\n",
    "    return tokens_score\n",
    "\n",
    "# Define score_sentence_by_lemma function\n",
    "def score_sentence_by_lemma(sentence, interesting_lemmas):\n",
    "    # Extract the raw text of the sentence\n",
    "    sentence_text = sentence.text\n",
    "    # Tokenize the sentence\n",
    "    doc = nlp(sentence_text)\n",
    "    # Count how many interesting lemmas appear in the sentence\n",
    "    lemma_count = sum(1 for token in doc if token.lemma_ in interesting_lemmas)\n",
    "    # Return the ratio of interesting lemmas to total tokens\n",
    "    lemmas_score = lemma_count / len(doc)\n",
    "    return lemmas_score\n",
    "\n",
    "# Calculate scores for the first sentence\n",
    "token_score = score_sentence_by_token(first_sentence, cool_tokens)\n",
    "lemma_score = score_sentence_by_lemma(first_sentence, cool_lemmas)\n",
    "\n",
    "# Print the scores\n",
    "print(f\"Token Score for the first sentence: {token_score}\")\n",
    "print(f\"Lemma Score for the first sentence: {lemma_score}\")\n"
   ]
  },
  {
   "cell_type": "markdown",
   "metadata": {},
   "source": [
    "## Question 6\n",
    "6. Make a list containing the scores (using tokens) of every sentence in the article, and plot a histogram with appropriate titles and axis labels of the scores. From your histogram, what seems to be the most common range of scores (put the answer in a comment after your code)?"
   ]
  },
  {
   "cell_type": "code",
   "execution_count": null,
   "metadata": {},
   "outputs": [
    {
     "data": {
      "image/png": "[encoded data removed]",
      "text/plain": [
       "<Figure size 640x480 with 1 Axes>"
      ]
     },
     "metadata": {},
     "output_type": "display_data"
    }
   ],
   "source": [
    "# Store frequent tokens in a set\n",
    "cool_tokens = set()\n",
    "for token, freq in mostFreqtokens:\n",
    "    cool_tokens.add(token)\n",
    "\n",
    "# Get every sentence in article \n",
    "sentences = list(doc.sents)\n",
    "\n",
    "# Define score_sentence_by_token function\n",
    "def score_sentence_by_token(sentence, interesting_tokens):\n",
    "    # Tokenize the sentence\n",
    "    token_count = sum(1 for token in sentence if token.text.lower() in interesting_tokens)\n",
    "    # Return the ratio of interesting tokens to total tokens\n",
    "    tokens_score = token_count / len(sentence)\n",
    "    return tokens_score\n",
    "\n",
    "# Create list to store scores \n",
    "sentence_scores = []\n",
    "\n",
    "# Loop through each sentence and calculate score\n",
    "for sentence in sentences:\n",
    "    score = score_sentence_by_token(sentence, cool_tokens)\n",
    "    sentence_scores.append(score)\n",
    "\n",
    "\n",
    "# Print the token scores for all sentences\n",
    "#for i, (sentence, score) in enumerate(zip(sentences, sentence_scores), 1):\n",
    "    #print(f\"Sentence {i}: '{sentence.text.strip()}' - Token Score: {score}\")\n",
    "\n",
    "# Create histogram data\n",
    "counts, bin_edges = np.histogram(sentence_scores, bins=10)\n",
    "\n",
    "# Prepare vertices for the PolyCollection\n",
    "verts = []\n",
    "for i in range(len(bin_edges) - 1):\n",
    "    verts.append([\n",
    "        (bin_edges[i], 0),\n",
    "        (bin_edges[i], counts[i]),\n",
    "        (bin_edges[i + 1], counts[i]),\n",
    "        (bin_edges[i + 1], 0),\n",
    "    ])\n",
    "\n",
    "# Create the gradient colors\n",
    "gradient = np.linspace(0, 1, len(verts))\n",
    "colors = plt.cm.plasma(gradient)\n",
    "\n",
    "# Create a PolyCollection with the gradient colors\n",
    "poly_collection = PolyCollection(verts, facecolors=colors, edgecolor='gray')\n",
    "\n",
    "# Plot the PolyCollection\n",
    "fig, ax = plt.subplots()\n",
    "ax.add_collection(poly_collection)\n",
    "ax.autoscale()\n",
    "plt.title(\"Histogram of Sentence Token Scores\")\n",
    "plt.xlabel(\"Score\")\n",
    "plt.ylabel(\"Frequency\")\n",
    "plt.show()\n",
    "\n",
    "# 0.0 to 0.25 is the most common score range "
   ]
  },
  {
   "cell_type": "markdown",
   "metadata": {},
   "source": [
    "## Question 7\n",
    "7. Make a list containing the scores (using lemmas) of every sentence in the article, and plot a histogram with appropriate titles and axis labels of the scores.  From your histogram, what seems to be the most common range of scores (put the answer in a comment after your code)?"
   ]
  },
  {
   "cell_type": "code",
   "execution_count": null,
   "metadata": {},
   "outputs": [
    {
     "data": {
      "image/png": "[encoded data removed]",
      "text/plain": [
       "<Figure size 640x480 with 1 Axes>"
      ]
     },
     "metadata": {},
     "output_type": "display_data"
    }
   ],
   "source": [
    "# Store frequent lemmas in a set\n",
    "cool_lemmas = set()\n",
    "for lemma, freq in mostFreqlemmas:\n",
    "    cool_lemmas.add(lemma)\n",
    "\n",
    "# Get every sentence in article \n",
    "sentences = list(doc.sents)\n",
    "\n",
    "# Define score_sentence_by_lemma function\n",
    "def score_sentence_by_lemma(sentence, interesting_lemmas):\n",
    "    # Extract the raw text of the sentence\n",
    "    sentence_text = sentence.text\n",
    "    # Tokenize the sentence\n",
    "    doc = nlp(sentence_text)\n",
    "    # Count how many interesting lemmas appear in the sentence\n",
    "    lemma_count = sum(1 for token in doc if token.lemma_ in interesting_lemmas)\n",
    "    # Return the ratio of interesting lemmas to total tokens\n",
    "    lemmas_score = lemma_count / len(doc)\n",
    "    return lemmas_score\n",
    "\n",
    "# Create list to store scores \n",
    "sentence_scores = []\n",
    "\n",
    "# Loop through each sentence and calculate score\n",
    "for sentence in sentences:\n",
    "    score = score_sentence_by_lemma(sentence, cool_lemmas)\n",
    "    sentence_scores.append(score)\n",
    "\n",
    "\n",
    "# Print the token scores for all sentences\n",
    "#for i, (sentence, score) in enumerate(zip(sentences, sentence_scores), 1):\n",
    "    #print(f\"Sentence {i}: '{sentence.text.strip()}' - Token Score: {score}\")\n",
    "\n",
    "# Create histogram data\n",
    "counts, bin_edges = np.histogram(sentence_scores, bins=10)\n",
    "\n",
    "# Prepare vertices for the PolyCollection\n",
    "verts = []\n",
    "for i in range(len(bin_edges) - 1):\n",
    "    verts.append([\n",
    "        (bin_edges[i], 0),\n",
    "        (bin_edges[i], counts[i]),\n",
    "        (bin_edges[i + 1], counts[i]),\n",
    "        (bin_edges[i + 1], 0),\n",
    "    ])\n",
    "\n",
    "# Create the gradient colors\n",
    "gradient = np.linspace(0, 1, len(verts))\n",
    "colors = plt.cm.magma(gradient)\n",
    "\n",
    "# Create a PolyCollection with the gradient colors\n",
    "poly_collection = PolyCollection(verts, facecolors=colors, edgecolor='gray')\n",
    "\n",
    "# Plot the PolyCollection\n",
    "fig, ax = plt.subplots()\n",
    "ax.add_collection(poly_collection)\n",
    "ax.autoscale()\n",
    "plt.title(\"Histogram of Sentence Lemma Scores\")\n",
    "plt.xlabel(\"Score\")\n",
    "plt.ylabel(\"Frequency\")\n",
    "plt.show()\n",
    "\n",
    "# 0.0 to 0.10 is the most common score ranges for lemma scores. "
   ]
  },
  {
   "cell_type": "markdown",
   "metadata": {},
   "source": [
    "8. Which tokens and lexems would be ommitted from the lists generated in questions 3 and 4 if we only wanted to consider nouns as interesting words?  How might we change the code to only consider nouns? Put your answer in this Markdown cell (you can edit it by double clicking it)."
   ]
  }
 ],
 "metadata": {
  "kernelspec": {
   "display_name": "venv",
   "language": "python",
   "name": "python3"
  },
  "language_info": {
   "codemirror_mode": {
    "name": "ipython",
    "version": 3
   },
   "file_extension": ".py",
   "mimetype": "text/x-python",
   "name": "python",
   "nbconvert_exporter": "python",
   "pygments_lexer": "ipython3",
   "version": "3.8.10"
  }
 },
 "nbformat": 4,
 "nbformat_minor": 4
}
